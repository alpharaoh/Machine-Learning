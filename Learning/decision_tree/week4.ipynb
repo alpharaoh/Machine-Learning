{
 "metadata": {
  "language_info": {
   "codemirror_mode": {
    "name": "ipython",
    "version": 3
   },
   "file_extension": ".py",
   "mimetype": "text/x-python",
   "name": "python",
   "nbconvert_exporter": "python",
   "pygments_lexer": "ipython3",
   "version": "3.8.6-final"
  },
  "orig_nbformat": 2,
  "kernelspec": {
   "name": "python3",
   "display_name": "Python 3",
   "language": "python"
  }
 },
 "nbformat": 4,
 "nbformat_minor": 2,
 "cells": [
  {
   "source": [
    "# Question 1"
   ],
   "cell_type": "markdown",
   "metadata": {}
  },
  {
   "cell_type": "code",
   "execution_count": 166,
   "metadata": {},
   "outputs": [
    {
     "output_type": "execute_result",
     "data": {
      "text/plain": [
       "   Gender Smoke   Home City Stage of Life BMI Category Activeness Illness\n",
       "0    Male   Yes      London       Elderly   Overweight        Low     Yes\n",
       "1    Male    No      London         Child       Normal     Medium     Yes\n",
       "2    Male    No     Bristol         Adult   Overweight     Medium      No\n",
       "3    Male   Yes  Birmingham       Elderly  Underweight     Medium     Yes\n",
       "4  Female   Yes  Birmingham         Adult   Overweight        Low     Yes\n",
       "5  Female    No      London       Elderly       Normal       High      No\n",
       "6    Male   Yes      London         Adult  Underweight       High      No\n",
       "7  Female    No     Bristol         Child       Normal     Medium     Yes\n",
       "8  Female    No  Birmingham         Adult       Normal        Low      No\n",
       "9  Female    No   Edinburgh       Elderly       Normal       High      No"
      ],
      "text/html": "<div>\n<style scoped>\n    .dataframe tbody tr th:only-of-type {\n        vertical-align: middle;\n    }\n\n    .dataframe tbody tr th {\n        vertical-align: top;\n    }\n\n    .dataframe thead th {\n        text-align: right;\n    }\n</style>\n<table border=\"1\" class=\"dataframe\">\n  <thead>\n    <tr style=\"text-align: right;\">\n      <th></th>\n      <th>Gender</th>\n      <th>Smoke</th>\n      <th>Home City</th>\n      <th>Stage of Life</th>\n      <th>BMI Category</th>\n      <th>Activeness</th>\n      <th>Illness</th>\n    </tr>\n  </thead>\n  <tbody>\n    <tr>\n      <th>0</th>\n      <td>Male</td>\n      <td>Yes</td>\n      <td>London</td>\n      <td>Elderly</td>\n      <td>Overweight</td>\n      <td>Low</td>\n      <td>Yes</td>\n    </tr>\n    <tr>\n      <th>1</th>\n      <td>Male</td>\n      <td>No</td>\n      <td>London</td>\n      <td>Child</td>\n      <td>Normal</td>\n      <td>Medium</td>\n      <td>Yes</td>\n    </tr>\n    <tr>\n      <th>2</th>\n      <td>Male</td>\n      <td>No</td>\n      <td>Bristol</td>\n      <td>Adult</td>\n      <td>Overweight</td>\n      <td>Medium</td>\n      <td>No</td>\n    </tr>\n    <tr>\n      <th>3</th>\n      <td>Male</td>\n      <td>Yes</td>\n      <td>Birmingham</td>\n      <td>Elderly</td>\n      <td>Underweight</td>\n      <td>Medium</td>\n      <td>Yes</td>\n    </tr>\n    <tr>\n      <th>4</th>\n      <td>Female</td>\n      <td>Yes</td>\n      <td>Birmingham</td>\n      <td>Adult</td>\n      <td>Overweight</td>\n      <td>Low</td>\n      <td>Yes</td>\n    </tr>\n    <tr>\n      <th>5</th>\n      <td>Female</td>\n      <td>No</td>\n      <td>London</td>\n      <td>Elderly</td>\n      <td>Normal</td>\n      <td>High</td>\n      <td>No</td>\n    </tr>\n    <tr>\n      <th>6</th>\n      <td>Male</td>\n      <td>Yes</td>\n      <td>London</td>\n      <td>Adult</td>\n      <td>Underweight</td>\n      <td>High</td>\n      <td>No</td>\n    </tr>\n    <tr>\n      <th>7</th>\n      <td>Female</td>\n      <td>No</td>\n      <td>Bristol</td>\n      <td>Child</td>\n      <td>Normal</td>\n      <td>Medium</td>\n      <td>Yes</td>\n    </tr>\n    <tr>\n      <th>8</th>\n      <td>Female</td>\n      <td>No</td>\n      <td>Birmingham</td>\n      <td>Adult</td>\n      <td>Normal</td>\n      <td>Low</td>\n      <td>No</td>\n    </tr>\n    <tr>\n      <th>9</th>\n      <td>Female</td>\n      <td>No</td>\n      <td>Edinburgh</td>\n      <td>Elderly</td>\n      <td>Normal</td>\n      <td>High</td>\n      <td>No</td>\n    </tr>\n  </tbody>\n</table>\n</div>"
     },
     "metadata": {},
     "execution_count": 166
    }
   ],
   "source": [
    "import pandas as pd\n",
    "import math\n",
    "\n",
    "# load dataset\n",
    "data = pd.read_csv(\"Decision Tree-Dataset.csv\")\n",
    "data"
   ]
  },
  {
   "cell_type": "code",
   "execution_count": 167,
   "metadata": {},
   "outputs": [
    {
     "output_type": "stream",
     "name": "stdout",
     "text": [
      "Yes    0.5\nNo     0.5\nName: Illness, dtype: float64\n\nENTROPY: 1.0\n"
     ]
    }
   ],
   "source": [
    "def calculate_entropy(column, verbose=False):\n",
    "    # compute the counts of each unique value in the column\n",
    "    counts = column.value_counts()\n",
    "    \n",
    "    # divide by the total column length to get a probability\n",
    "    probabilities = counts / len(column)\n",
    "\n",
    "    if verbose:\n",
    "        print(probabilities)\n",
    "\n",
    "    entropy = 0\n",
    "\n",
    "    # loop through the probabilities, and add each one to the total entropy\n",
    "    for prob in probabilities:\n",
    "        if prob > 0:\n",
    "            # use log from math and set base to 2\n",
    "            entropy += prob * math.log(prob, 2)\n",
    "    \n",
    "    return -entropy\n",
    "\n",
    "print(f\"\\nENTROPY: {calculate_entropy(data['Illness'], verbose=True)}\")"
   ]
  },
  {
   "cell_type": "code",
   "execution_count": 168,
   "metadata": {},
   "outputs": [],
   "source": [
    "def calculate_information_gain(data, split_name, target_name=\"Illness\"):\n",
    "    # get entropy for column\n",
    "    original_entropy = calculate_entropy(data[target_name])\n",
    "\n",
    "    # find unique values in the column\n",
    "    uniq_values = data[split_name].unique()\n",
    "    \n",
    "    # initailize info_gain variable to have the value of entropy, and from\n",
    "    info_gain = original_entropy\n",
    "\n",
    "    # split dataset where each subset has a unique value of the attribute\n",
    "    subsets = [data[data[split_name] == name] for name in uniq_values]\n",
    "    \n",
    "    # iterate through the subsets and apply information gain formala\n",
    "    for subset in subsets:\n",
    "        # this is the proportion of examples for the unique attribute for the subset\n",
    "        # e.g. prob = 3/4 if subset is of females and has 3 rows out of 4 rows of genders in the whole dataset\n",
    "        prob = subset.shape[0] / data[split_name].shape[0]\n",
    "\n",
    "        # now we subtract this probability multiplied by the subsets entropy by the info_gain \n",
    "        info_gain -= (prob * calculate_entropy(subset[\"Illness\"]))\n",
    "    \n",
    "    return info_gain"
   ]
  },
  {
   "source": [
    "Let's output the information gain for each attribute with respect to \"Illness\""
   ],
   "cell_type": "markdown",
   "metadata": {}
  },
  {
   "cell_type": "code",
   "execution_count": 169,
   "metadata": {},
   "outputs": [
    {
     "output_type": "stream",
     "name": "stdout",
     "text": [
      "INFO GAIN (Question 1)\n\nGender:\t\t0.02905\nSmoke:\t\t0.12451\nHome City:\t0.12451\nStage of Life:\t0.27549\nBMI Category:\t0.03904\nActiveness:\t0.4\n\n"
     ]
    }
   ],
   "source": [
    "print(f\"\"\"INFO GAIN (Question 1)\\n\n",
    "Gender:\\t\\t{round(calculate_information_gain(data, \"Gender\"), 5)}\n",
    "Smoke:\\t\\t{round(calculate_information_gain(data, \"Smoke\"), 5)}\n",
    "Home City:\\t{round(calculate_information_gain(data, \"Home City\"), 5)}\n",
    "Stage of Life:\\t{round(calculate_information_gain(data, \"Stage of Life\"), 5)}\n",
    "BMI Category:\\t{round(calculate_information_gain(data, \"BMI Category\"), 5)}\n",
    "Activeness:\\t{round(calculate_information_gain(data, \"Activeness\"), 5)}\n",
    "\"\"\")"
   ]
  },
  {
   "source": [
    "# Question 2"
   ],
   "cell_type": "markdown",
   "metadata": {}
  },
  {
   "cell_type": "code",
   "execution_count": 170,
   "metadata": {},
   "outputs": [
    {
     "output_type": "execute_result",
     "data": {
      "text/plain": [
       "   Gender  Age   BMI   Home City Illness\n",
       "0    Male   33  28.8     Bristol      No\n",
       "1  Female   45  23.8      London      No\n",
       "2  Female   68  21.3   Edinburgh      No\n",
       "3    Male   21  22.6      London     Yes\n",
       "4    Male   71  18.3  Birmingham     Yes\n",
       "5  Female   27  28.0  Birmingham     Yes"
      ],
      "text/html": "<div>\n<style scoped>\n    .dataframe tbody tr th:only-of-type {\n        vertical-align: middle;\n    }\n\n    .dataframe tbody tr th {\n        vertical-align: top;\n    }\n\n    .dataframe thead th {\n        text-align: right;\n    }\n</style>\n<table border=\"1\" class=\"dataframe\">\n  <thead>\n    <tr style=\"text-align: right;\">\n      <th></th>\n      <th>Gender</th>\n      <th>Age</th>\n      <th>BMI</th>\n      <th>Home City</th>\n      <th>Illness</th>\n    </tr>\n  </thead>\n  <tbody>\n    <tr>\n      <th>0</th>\n      <td>Male</td>\n      <td>33</td>\n      <td>28.8</td>\n      <td>Bristol</td>\n      <td>No</td>\n    </tr>\n    <tr>\n      <th>1</th>\n      <td>Female</td>\n      <td>45</td>\n      <td>23.8</td>\n      <td>London</td>\n      <td>No</td>\n    </tr>\n    <tr>\n      <th>2</th>\n      <td>Female</td>\n      <td>68</td>\n      <td>21.3</td>\n      <td>Edinburgh</td>\n      <td>No</td>\n    </tr>\n    <tr>\n      <th>3</th>\n      <td>Male</td>\n      <td>21</td>\n      <td>22.6</td>\n      <td>London</td>\n      <td>Yes</td>\n    </tr>\n    <tr>\n      <th>4</th>\n      <td>Male</td>\n      <td>71</td>\n      <td>18.3</td>\n      <td>Birmingham</td>\n      <td>Yes</td>\n    </tr>\n    <tr>\n      <th>5</th>\n      <td>Female</td>\n      <td>27</td>\n      <td>28.0</td>\n      <td>Birmingham</td>\n      <td>Yes</td>\n    </tr>\n  </tbody>\n</table>\n</div>"
     },
     "metadata": {},
     "execution_count": 170
    }
   ],
   "source": [
    "# load dataset\n",
    "data_knn = pd.read_csv(\"kNN-Dataset.csv\")\n",
    "data_knn"
   ]
  },
  {
   "source": [
    "I will start by creating helper functions\n",
    "\n",
    "- `cat_input_attrib_calc`:  works out the (x_i - x_j) for categorical attributes (discussed in section 5, 07:40)\n",
    "- `normalise`:              normalises the input attributes and also applies (x_i - x_j)\n",
    "- `parse_data`:             decides whether to use `cat_input_attrib_calc` or `normalise` based on the input type"
   ],
   "cell_type": "markdown",
   "metadata": {}
  },
  {
   "cell_type": "code",
   "execution_count": 171,
   "metadata": {},
   "outputs": [],
   "source": [
    "def cat_input_attrib_calc(cat_x, cat_comparason):\n",
    "    # returns 0 if they are the same, else returns 1 if they are different categories\n",
    "    return 1 - int(cat_x == cat_comparason)\n",
    "\n",
    "def normalise(x, min=None, max=None):\n",
    "    return (x - min)/(max - min)\n",
    "\n",
    "def parse_data(data_knn, attrib, val, x_new):\n",
    "    if type(val) == int or type(val) == float:\n",
    "        # get min and max of the data attribute\n",
    "        # this would be dynamic depending on the x_new but thankfully the question values\n",
    "        # does not produce a new max or min\n",
    "        max = data_knn[attrib].max()\n",
    "        min = data_knn[attrib].min()\n",
    "\n",
    "        # get normalised values of val and the x_new and subtract them\n",
    "        return normalise(val, max=max, min=min) - normalise(x_new[attrib], max=max, min=min)\n",
    "\n",
    "    else:\n",
    "        return cat_input_attrib_calc(val, x_new[attrib])"
   ]
  },
  {
   "cell_type": "code",
   "execution_count": 172,
   "metadata": {},
   "outputs": [],
   "source": [
    "# question 2 values\n",
    "k = 3\n",
    "x_new = {\"Gender\": \"Female\", \"Age\":26, \"BMI\":20, \"Home City\":\"Birmingham\"}"
   ]
  },
  {
   "cell_type": "code",
   "execution_count": 173,
   "metadata": {},
   "outputs": [
    {
     "output_type": "execute_result",
     "data": {
      "text/plain": [
       "{'Gender': [1, 0, 0, 1, 1, 0],\n",
       " 'Age': [0.13999999999999999, 0.38, 0.84, -0.1, 0.9, 0.01999999999999999],\n",
       " 'BMI': [0.8380952380952382,\n",
       "  0.361904761904762,\n",
       "  0.12380952380952387,\n",
       "  0.24761904761904774,\n",
       "  -0.16190476190476183,\n",
       "  0.7619047619047619],\n",
       " 'Home City': [1, 1, 1, 1, 0, 0]}"
      ]
     },
     "metadata": {},
     "execution_count": 173
    }
   ],
   "source": [
    "# create a dictionary that stores the \n",
    "out = {\"Gender\":[], \"Age\": [], \"BMI\": [], \"Home City\": []}\n",
    "\n",
    "# iterate through the columns of the table\n",
    "for attrib in data_knn.columns:\n",
    "    # iterate through the values of the column\n",
    "    for val in data_knn[attrib]:\n",
    "        if attrib in out:\n",
    "            # append to the dictionary the difference between the x_new and the value in the dataset\n",
    "            out[attrib].append(parse_data(data_knn, attrib, val, x_new))\n",
    "\n",
    "out"
   ]
  },
  {
   "cell_type": "code",
   "execution_count": 174,
   "metadata": {},
   "outputs": [],
   "source": [
    "def eu_distance(x_new, out):\n",
    "    # store the result of distance calculated for each row \n",
    "    out_ = []\n",
    "\n",
    "    # iterate through the dataset's rows\n",
    "    for i in range(data_knn.shape[0]):\n",
    "\n",
    "        # square each value we calculated in the previous cell\n",
    "        gender_dist = (out[\"Gender\"][i])**2\n",
    "        age_dist = (out[\"Age\"][i])**2\n",
    "        bmi_dist = (out[\"BMI\"][i])**2\n",
    "        city_dist = (out[\"Home City\"][i])**2\n",
    "\n",
    "        # take the square root of the sum of these values\n",
    "        val = math.sqrt(gender_dist + age_dist + bmi_dist + city_dist)\n",
    "        \n",
    "        out_.append(round(val, 5))\n",
    "\n",
    "    return out_\n",
    "\n",
    "answer = eu_distance(x_new ,out)"
   ]
  },
  {
   "cell_type": "code",
   "execution_count": 176,
   "metadata": {},
   "outputs": [
    {
     "output_type": "stream",
     "name": "stdout",
     "text": [
      "k Nearest Neighbour (Question 2)\n\ndistance(x_1, x_new):\t1.64985\ndistance(x_2, x_new):\t1.12933\ndistance(x_3, x_new):\t1.31184\ndistance(x_4, x_new):\t1.43921\ndistance(x_5, x_new):\t1.35507\ndistance(x_6, x_new):\t0.76217\n\n"
     ]
    }
   ],
   "source": [
    "print(f\"\"\"k Nearest Neighbour (Question 2)\\n\n",
    "distance(x_1, x_new):\\t{answer[0]}\n",
    "distance(x_2, x_new):\\t{answer[1]}\n",
    "distance(x_3, x_new):\\t{answer[2]}\n",
    "distance(x_4, x_new):\\t{answer[3]}\n",
    "distance(x_5, x_new):\\t{answer[4]}\n",
    "distance(x_6, x_new):\\t{answer[5]}\n",
    "\"\"\")"
   ]
  }
 ]
}