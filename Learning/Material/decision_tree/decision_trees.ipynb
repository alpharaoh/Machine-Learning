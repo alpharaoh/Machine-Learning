{
 "metadata": {
  "language_info": {
   "codemirror_mode": {
    "name": "ipython",
    "version": 3
   },
   "file_extension": ".py",
   "mimetype": "text/x-python",
   "name": "python",
   "nbconvert_exporter": "python",
   "pygments_lexer": "ipython3",
   "version": "3.8.6"
  },
  "orig_nbformat": 2,
  "kernelspec": {
   "name": "python386jvsc74a57bd0a1775983dcf6192600b7921f261b504285134f8d25e4a313c92ba0c2ba37407f",
   "display_name": "Python 3.8.6 64-bit ('tf-gpu': conda)"
  },
  "metadata": {
   "interpreter": {
    "hash": "a1775983dcf6192600b7921f261b504285134f8d25e4a313c92ba0c2ba37407f"
   }
  }
 },
 "nbformat": 4,
 "nbformat_minor": 2,
 "cells": [
  {
   "source": [
    "# Decision Trees\n",
    "\n",
    "Decision trees are versitile ML aglorithms that can perform classification, regression and multioutput tasks. Decision trees are also fundamentla components of Random Forests, which are among the most powerful ML aglorithms today.\n",
    "\n",
    "We will discuss how to train, visualize and make predictions. then we will go through CART trainng algorithm used by Scikit-Learn, and we will discuss how to regularise trees and use them for regression tasks. We will also discuss the limitations\n",
    "\n",
    "Lets bult a decision tree using a DecisionTreeClassifier on the iris dataset"
   ],
   "cell_type": "markdown",
   "metadata": {}
  },
  {
   "cell_type": "code",
   "execution_count": 1,
   "metadata": {},
   "outputs": [
    {
     "output_type": "execute_result",
     "data": {
      "text/plain": [
       "DecisionTreeClassifier(max_depth=2)"
      ]
     },
     "metadata": {},
     "execution_count": 1
    }
   ],
   "source": [
    "from sklearn.datasets import load_iris\n",
    "from sklearn.tree import DecisionTreeClassifier\n",
    "\n",
    "iris = load_iris()\n",
    "X = iris.data[:, 2:] # Petal length and width\n",
    "y = iris.target\n",
    "\n",
    "tree_clf = DecisionTreeClassifier(max_depth=2)\n",
    "tree_clf.fit(X, y)"
   ]
  },
  {
   "cell_type": "code",
   "execution_count": 2,
   "metadata": {},
   "outputs": [],
   "source": [
    "# we use the export_graphviz method to output a graph definition file called iris_tree.dot\n",
    "\n",
    "from sklearn.tree import export_graphviz\n",
    "\n",
    "export_graphviz(\n",
    "    tree_clf,\n",
    "    out_file=\"iris_tree.dot\",\n",
    "    feature_names=iris.feature_names[2:],\n",
    "    class_names=iris.target_names,\n",
    "    rounded=True,\n",
    "    filled=True\n",
    ")\n",
    "\n",
    "# then we can use the dot command line tool from Graphviz package ti convert .dot image to png/pdf etc.\n",
    "# dot -Tpng iris_tree.dot -o iris_tree.png\n"
   ]
  },
  {
   "source": [
    "<img src=\"./iris_tree.png\">"
   ],
   "cell_type": "markdown",
   "metadata": {}
  },
  {
   "cell_type": "code",
   "execution_count": null,
   "metadata": {},
   "outputs": [],
   "source": []
  }
 ]
}