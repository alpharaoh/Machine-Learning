{
 "cells": [
  {
   "cell_type": "markdown",
   "metadata": {},
   "source": [
    "# Iris Logistic Regression\n",
    "This dataset contains the sepal and petal length and width of 150 iris flowers of three different species: __Iris setosa, Iris vericolor, and Iris virginica__"
   ]
  },
  {
   "cell_type": "code",
   "execution_count": 1,
   "metadata": {},
   "outputs": [
    {
     "data": {
      "text/plain": [
       "['sepal length (cm)',\n",
       " 'sepal width (cm)',\n",
       " 'petal length (cm)',\n",
       " 'petal width (cm)']"
      ]
     },
     "execution_count": 1,
     "metadata": {},
     "output_type": "execute_result"
    }
   ],
   "source": [
    "from sklearn import datasets\n",
    "import numpy as np\n",
    "import matplotlib.pyplot as plt\n",
    "\n",
    "iris = datasets.load_iris()\n",
    "iris.feature_names"
   ]
  },
  {
   "cell_type": "markdown",
   "metadata": {},
   "source": [
    "Let's first try build a classifier to detect the Iris virginica type based only on the petal width feature"
   ]
  },
  {
   "cell_type": "code",
   "execution_count": 2,
   "metadata": {},
   "outputs": [
    {
     "data": {
      "text/plain": [
       "(array([1, 1, 1, 1, 1]),\n",
       " array([[2.3],\n",
       "        [1.9],\n",
       "        [2. ],\n",
       "        [2.3],\n",
       "        [1.8]]))"
      ]
     },
     "execution_count": 2,
     "metadata": {},
     "output_type": "execute_result"
    }
   ],
   "source": [
    "X = iris[\"data\"][:, 3:] # petal width\n",
    "y = (iris[\"target\"] == 2).astype(int) # 1 if Iris virginica, else 0\n",
    "\n",
    "y[-5:], X[-5:] # show last 5 data"
   ]
  },
  {
   "cell_type": "markdown",
   "metadata": {},
   "source": [
    "Let's train using Logistic Regression class from sklearn"
   ]
  },
  {
   "cell_type": "code",
   "execution_count": 3,
   "metadata": {},
   "outputs": [
    {
     "data": {
      "text/plain": [
       "LogisticRegression()"
      ]
     },
     "execution_count": 3,
     "metadata": {},
     "output_type": "execute_result"
    }
   ],
   "source": [
    "from sklearn.linear_model import LogisticRegression\n",
    "\n",
    "log_reg = LogisticRegression()\n",
    "log_reg.fit(X, y)"
   ]
  },
  {
   "cell_type": "markdown",
   "metadata": {},
   "source": [
    "Let's look at the model's estimated probabilites for flowers with petal widths varying from 0cm to 3cm"
   ]
  },
  {
   "cell_type": "code",
   "execution_count": 4,
   "metadata": {},
   "outputs": [
    {
     "data": {
      "text/plain": [
       "Text(0.5, 0, 'Petal Width (cm)')"
      ]
     },
     "execution_count": 4,
     "metadata": {},
     "output_type": "execute_result"
    },
    {
     "data": {
      "image/png": "[encoded data removed]",
      "text/plain": [
       "<Figure size 432x288 with 1 Axes>"
      ]
     },
     "metadata": {
      "needs_background": "light"
     },
     "output_type": "display_data"
    }
   ],
   "source": [
    "X_new = np.linspace(0, 3, 1000).reshape(-1, 1) # get array len 1000 from 0-3\n",
    "Y_proba = log_reg.predict_proba(X_new)\n",
    "plt.plot(X_new, Y_proba[:, 1], \"g-\", label=\"Iris Virginica\")\n",
    "plt.plot(X_new, Y_proba[:, 0], \"b--\", label=\"Not Iris Virginica\")\n",
    "\n",
    "# get indexes of iris virginica and not iris virginica\n",
    "iv_index = np.concatenate(np.transpose(np.nonzero(y == 1))).ravel()\n",
    "not_iv_index = np.concatenate(np.transpose(np.nonzero(y == 0))).ravel()\n",
    "\n",
    "# get X subarray with indexes \n",
    "X_is_iv = np.concatenate(X[iv_index])\n",
    "X_not_iv = np.concatenate(X[not_iv_index])\n",
    "\n",
    "# plot data points (green is iris virginica, blue is everything else)\n",
    "plt.plot(X_is_iv, y[iv_index], 'o', color='g')\n",
    "plt.plot(X_not_iv, y[not_iv_index], 'o', color='b')\n",
    "\n",
    "# formatting\n",
    "plt.legend();\n",
    "plt.ylabel(\"Probability\")\n",
    "plt.xlabel(\"Petal Width (cm)\")"
   ]
  },
  {
   "cell_type": "markdown",
   "metadata": {},
   "source": [
    "You can see there is some overlap between not iris virginica and iris virginica\n",
    "\n",
    "Above 2.0cm the classifier is highly confident that the flower is Iris Virginica (it outputs a high probability for), while below 1cm, it is highly confident that it is not an Iris Virginica. Inbetween these extremes, the classifier is unsure. However if you ask it to predict the class (using the `predict()` rather than the `predict_proba()`) it will return whichever class is most likely. Therefore, there is a `decision boundary` at around 1.6cm where both possibilities are equal to 50%. This means that if the pertal width is higher than 1.6cm, the classifier will predict that the flower is an Iris virginica, and otherwise it will predict not (even if it is not very confident)"
   ]
  },
  {
   "cell_type": "code",
   "execution_count": 5,
   "metadata": {},
   "outputs": [
    {
     "data": {
      "text/plain": [
       "array([1, 0])"
      ]
     },
     "execution_count": 5,
     "metadata": {},
     "output_type": "execute_result"
    }
   ],
   "source": [
    "log_reg.predict([[1.7], [1.5]])"
   ]
  },
  {
   "cell_type": "markdown",
   "metadata": {},
   "source": [
    "## Softmax Regression\n",
    "\n",
    "The Logistic Regression model can be generalized to support multiple classes directly without having to train and combine multiple binary classifiers. This is called Softmax Regression. The idea is when given an instance x, the softmax regression model first computes a score $s_k(x)$ for each class k, then estimates the probability of each class by applying the softmax function to the scores. The equation to compute $s_k(x)$ is:"
   ]
  },
  {
   "cell_type": "markdown",
   "metadata": {},
   "source": [
    "$s_k(x) = (\\theta^k)^T x$"
   ]
  },
  {
   "source": [
    "Note that each class has its own dedicated parameter vector $\\theta^k$. All these vectors are typically stored as rows in a parameter matrix $\\Theta$\n",
    "\n",
    "Once you have computed the score of every class for the instance x, you can estimate the probability $p_k$ that the instance belongs to class k by running the scores through the softmax function. The function computes the exponential of every score, then normalises them (dividing by the sum of all the exponentials). The scores a regenerally called logits. The softmax equation is"
   ],
   "cell_type": "markdown",
   "metadata": {}
  },
  {
   "source": [
    "$p_k = \\sigma(s(x))_k = \\frac{exp(s_k(x))}{\\sum_{j=1}^{K} exp(s_j(x))}$"
   ],
   "cell_type": "markdown",
   "metadata": {}
  },
  {
   "source": [
    "In this equation:\n",
    "- K is the number of classes.\n",
    "- s(x) is a vector containing the scores of each class for the instance x\n",
    "- $\\sigma(s(x))_k$ is the estimated probability that the instance x belongs to class k, given the scores of each class for that instance"
   ],
   "cell_type": "markdown",
   "metadata": {}
  },
  {
   "source": [
    "Softmax predicts the class with the highest estimated probability. Note: this classifier only predicts one class at a time, it is multiclass not multioutput\n",
    "\n",
    "To train this model, our objective is to have a model that estimates a high probability for the target class. Minimizing the cost function (shown below) called the cross entropy, should lead to this objective because it penalizes the model when it estimates a low probability for a target class. Cross entropy is frequently used to measure howo well a set of estimated class probabilities matches the target class\n",
    "\n",
    "$J(\\Theta) = -\\frac{1}{n}\\sum_{i=1}^{m}\\sum_{k=1}^{K}y_k^ilog(p_k^i)$"
   ],
   "cell_type": "markdown",
   "metadata": {}
  }
 ],
 "metadata": {
  "kernelspec": {
   "display_name": "Python 3",
   "language": "python",
   "name": "python3"
  },
  "language_info": {
   "codemirror_mode": {
    "name": "ipython",
    "version": 3
   },
   "file_extension": ".py",
   "mimetype": "text/x-python",
   "name": "python",
   "nbconvert_exporter": "python",
   "pygments_lexer": "ipython3",
   "version": "3.8.5"
  }
 },
 "nbformat": 4,
 "nbformat_minor": 2
}